{
 "cells": [
  {
   "cell_type": "code",
   "execution_count": 2,
   "id": "fc4a5c59",
   "metadata": {},
   "outputs": [],
   "source": [
    "import streamlit as st\n",
    "import os\n",
    "\n",
    "import urllib.request\n",
    "import sys\n",
    "import json\n",
    "\n",
    "import re\n",
    "from dotenv import load_dotenv\n",
    "import time\n",
    "from datetime import date\n",
    "\n",
    "import streamlit as st\n",
    "from google import genai\n",
    "from google.genai import types"
   ]
  },
  {
   "cell_type": "code",
   "execution_count": 20,
   "id": "f4caa810",
   "metadata": {},
   "outputs": [],
   "source": [
    "def get_todays_date():\n",
    "    \"\"\"\n",
    "    Provides today's date\n",
    "\n",
    "    Returns:\n",
    "        provides today's date\n",
    "    \n",
    "    \"\"\"\n",
    "\n",
    "    return str(date.today())"
   ]
  },
  {
   "cell_type": "code",
   "execution_count": 21,
   "id": "7097076a",
   "metadata": {},
   "outputs": [],
   "source": [
    "def get_weather_at_location(location: str, date: str):\n",
    "    api_location = re.sub(r'[^a-zA-Z0-9\\s]', '', location).replace(\" \", \"%20\")\n",
    "    #print(api_location)\n",
    "    load_dotenv(override=True)\n",
    "    weather_key = st.secrets[\"WEATHER_KEY\"]\n",
    "    #print(weather_key)\n",
    "    url = \"https://weather.visualcrossing.com/VisualCrossingWebServices/rest/services/timeline/\" + api_location + \"/\" + date + \"?unitGroup=us&include=hours&key=\" + weather_key + \"&contentType=json\"\n",
    "    #print(url)\n",
    "    \n",
    "\n",
    "    try: \n",
    "        ResultBytes = urllib.request.urlopen(url)\n",
    "        # Parse the results as JSON\n",
    "        jsonData = json.load(ResultBytes)\n",
    "        \n",
    "    except urllib.error.HTTPError  as e:\n",
    "        ErrorInfo= e.read().decode() \n",
    "        print('Error code: ', e.code, ErrorInfo)\n",
    "        sys.exit()\n",
    "    except  urllib.error.URLError as e:\n",
    "        ErrorInfo= e.read().decode() \n",
    "        print('Error code: ', e.code,ErrorInfo)\n",
    "        sys.exit()\n",
    "    return jsonData"
   ]
  },
  {
   "cell_type": "code",
   "execution_count": 22,
   "id": "6034529f",
   "metadata": {},
   "outputs": [],
   "source": [
    "def parse_weather_for_dewtemp(hour_of_day: int, forecast: dict):\n",
    "    dew = forecast['days'][0]['hours'][hour_of_day]['dew']\n",
    "    temp = forecast['days'][0]['hours'][hour_of_day]['temp']\n",
    "    return temp, dew"
   ]
  },
  {
   "cell_type": "code",
   "execution_count": 28,
   "id": "2316ed51",
   "metadata": {},
   "outputs": [],
   "source": [
    "def determine_adjustment(total):\n",
    "  \n",
    "    conversion_dict = {\n",
    "        100: 0.0,\n",
    "        110: 0.005,\n",
    "        120: 0.01,\n",
    "        130: 0.02,\n",
    "        140: 0.03,\n",
    "        150: 0.045,\n",
    "        160: 0.06,\n",
    "        170: 0.08,\n",
    "        180: 0.1,\n",
    "    }\n",
    "    for key in conversion_dict.keys():\n",
    "        if total > key and total <= key+10:\n",
    "            lower = key\n",
    "            upper = key+10\n",
    "            lower_adjust = conversion_dict[key]\n",
    "            upper_adjust = conversion_dict[key+10]\n",
    "    range1_ratio = (total-lower)/(upper-lower)\n",
    "    range2_equivalent = (upper_adjust-lower_adjust)*range1_ratio+lower_adjust\n",
    "    return range2_equivalent"
   ]
  },
  {
   "cell_type": "code",
   "execution_count": 35,
   "id": "1ab6724e",
   "metadata": {},
   "outputs": [],
   "source": [
    "def adjust_target_pace(minutes: int, seconds: int, temp: float, dew: float):\n",
    "    \n",
    "    \n",
    "    total_seconds = 60*minutes + seconds\n",
    "    dewtemp = temp + dew\n",
    "\n",
    "\n",
    "    #print(dewtemp_total)\n",
    "    if dewtemp <= 100:\n",
    "        return time.strftime(\"%M:%S\", time.gmtime(total_seconds)), 0\n",
    "    elif dewtemp >180:\n",
    "        return \"Not safe to run fast\", \"N/A\"\n",
    "\n",
    "    adjustment = determine_adjustment(dewtemp)\n",
    "    #print(adjustment)\n",
    "    adjusted_seconds = total_seconds*(adjustment+1)\n",
    "    result = time.strftime(\"%M:%S\", time.gmtime(adjusted_seconds))\n",
    "\n",
    "    return result, adjustment"
   ]
  },
  {
   "cell_type": "code",
   "execution_count": null,
   "id": "f560e2aa",
   "metadata": {},
   "outputs": [],
   "source": [
    "def adjust_target_pace_from_weather_at_location(location: str, date: str, hour_of_day: int, pace_minutes: int, pace_seconds: int):\n",
    "    \"\"\"\n",
    "    Adjusts a given target running pace based on the weather at the location on a certain date\n",
    "    \n",
    "    Args:\n",
    "        location: the location that the runner will be running\n",
    "        date: the date that the runner will be targeting the pace, in the format: YYYY-MM-DD\n",
    "        hour_of_day: the hour of the day the runner will be running\n",
    "        pace_minutes: the minute portion of the pace, ex: for 5:16 pace, this would be 5\n",
    "        pace_seconds: the seconds portion of the pace, ex: for 5:16 pace, this would be 16\n",
    "\n",
    "    Returns:\n",
    "        the adjusted pace that the runner should target or \"not safe to run fast\" if the temperature + dew point is over 180\n",
    "        the adjustment % used or \"N/A\" if the temperature + dew point is over 180\n",
    "        the temperature for the date and time\n",
    "        the dew point for the date and time\n",
    "        \n",
    "    \n",
    "    \"\"\"\n",
    "\n",
    "    forecast = get_weather_at_location(location, date)\n",
    "\n",
    "    temp, dew = parse_weather_for_dewtemp(hour_of_day,forecast)\n",
    "\n",
    "    #get new pace and the adjustment %\n",
    "    result, adjustment = adjust_target_pace(pace_minutes, pace_seconds, temp, dew)\n",
    "\n",
    "    return result, adjustment, temp, dew"
   ]
  },
  {
   "cell_type": "code",
   "execution_count": 52,
   "id": "58307745",
   "metadata": {},
   "outputs": [],
   "source": [
    "def adjust_performance_pace(minutes: int, seconds: int, temp: float, dew: float):\n",
    "    \n",
    "    \n",
    "    total_seconds = 60*minutes + seconds\n",
    "    dewtemp = temp + dew\n",
    "\n",
    "\n",
    "    #print(dewtemp_total)\n",
    "    if dewtemp <= 100:\n",
    "        return time.strftime(\"%M:%S\", time.gmtime(total_seconds)), 0\n",
    "\n",
    "    adjustment = determine_adjustment(dewtemp)\n",
    "    #print(adjustment)\n",
    "    adjusted_seconds = total_seconds/(adjustment+1)\n",
    "    result = time.strftime(\"%M:%S\", time.gmtime(adjusted_seconds))\n",
    "\n",
    "    return result, adjustment"
   ]
  },
  {
   "cell_type": "code",
   "execution_count": null,
   "id": "16c65023",
   "metadata": {},
   "outputs": [],
   "source": [
    "def adjust_performance_pace_from_weather_at_location(location: str, date: str, hour_of_day: int, pace_minutes: int, pace_seconds: int):\n",
    "    \"\"\"\n",
    "    Adjusts a given performance running pace based on the weather at the location on a certain date\n",
    "    \n",
    "    Args:\n",
    "        location: the location that the runner will be running\n",
    "        date: the date that the runner achieved the performance pace, in the format: YYYY-MM-DD\n",
    "        hour_of_day: the hour of the day the runner will be running\n",
    "        pace_minutes: the minute portion of the pace, ex: for 5:16 pace, this would be 5\n",
    "        pace_seconds: the seconds portion of the pace, ex: for 5:16 pace, this would be 16\n",
    "\n",
    "    Returns:\n",
    "        the adjusted pace for the performance the runner achieved\n",
    "        the adjustment % used or \"N/A\" if the temperature + dew point is over 180\n",
    "        the temperature for the date and time\n",
    "        the dew point for the date and time\n",
    "    \"\"\"\n",
    "\n",
    "    forecast = get_weather_at_location(location, date)\n",
    "\n",
    "    temp, dew = parse_weather_for_dewtemp(hour_of_day,forecast)\n",
    "\n",
    "    #get new pace and the adjustment %\n",
    "    result, adjustment = adjust_performance_pace(pace_minutes, pace_seconds, temp, dew)\n",
    "\n",
    "    return result, adjustment, temp, dew"
   ]
  },
  {
   "cell_type": "code",
   "execution_count": 50,
   "id": "30a85744",
   "metadata": {},
   "outputs": [],
   "source": [
    "date = \"2025-06-28\"\n",
    "location = \"Cottage Grove MN\"\n",
    "hour_of_day = 9\n",
    "minutes = 7\n",
    "seconds = 23"
   ]
  },
  {
   "cell_type": "code",
   "execution_count": 51,
   "id": "d9e42109",
   "metadata": {},
   "outputs": [
    {
     "name": "stdout",
     "output_type": "stream",
     "text": [
      "07:12 0.025 69.3 65.7\n"
     ]
    }
   ],
   "source": [
    "result, adjustment, temp, dew = adjust_performance_pace_from_weather_at_location(location, date, hour_of_day, minutes, seconds)\n",
    "print(result, adjustment, temp, dew)\n"
   ]
  },
  {
   "cell_type": "code",
   "execution_count": null,
   "id": "82836d2f",
   "metadata": {},
   "outputs": [
    {
     "name": "stdout",
     "output_type": "stream",
     "text": [
      "08:27 0.049200000000000015 81.4 71.4\n"
     ]
    }
   ],
   "source": []
  },
  {
   "cell_type": "code",
   "execution_count": 47,
   "id": "089fa83d",
   "metadata": {},
   "outputs": [],
   "source": [
    "date = \"2025-06-28\"\n",
    "location = \"Cottage Grove MN\"\n",
    "hours_of_day = 9\n",
    "minutes = 7\n",
    "seconds = 23\n",
    "weather = get_weather_at_location(location, date)\n",
    "temp, dew = parse_weather_for_dewtemp(hours_of_day, weather)\n",
    "result, adjustment = adjust_performance_pace(minutes, seconds, temp, dew)\n"
   ]
  },
  {
   "cell_type": "code",
   "execution_count": 48,
   "id": "877a3d07",
   "metadata": {},
   "outputs": [
    {
     "name": "stdout",
     "output_type": "stream",
     "text": [
      "{'datetime': '09:00:00', 'datetimeEpoch': 1751119200, 'temp': 69.3, 'feelslike': 69.3, 'humidity': 88.22, 'dew': 65.7, 'precip': 0.0, 'precipprob': 0.0, 'snow': 0.0, 'snowdepth': 0.0, 'preciptype': None, 'windgust': 15.0, 'windspeed': 1.2, 'winddir': 45.0, 'pressure': 1013.1, 'visibility': 9.9, 'cloudcover': 3.4, 'solarradiation': 330.0, 'solarenergy': 1.2, 'uvindex': 3.0, 'severerisk': 5.0, 'conditions': 'Clear', 'icon': 'clear-day', 'stations': ['99999900180', 'KSGS', 'KSTP', '72658414927', '72660304974', 'KMSP', 'D3800'], 'source': 'obs'}\n",
      "69.3 65.7 135.0\n",
      "07:12 0.025\n"
     ]
    }
   ],
   "source": [
    "print(weather['days'][0]['hours'][hours_of_day])\n",
    "print(temp, dew, dew+temp)\n",
    "print(result, adjustment)\n"
   ]
  },
  {
   "cell_type": "code",
   "execution_count": null,
   "id": "e1b310e1",
   "metadata": {},
   "outputs": [],
   "source": []
  },
  {
   "cell_type": "code",
   "execution_count": null,
   "id": "e54fc033",
   "metadata": {},
   "outputs": [],
   "source": []
  },
  {
   "cell_type": "code",
   "execution_count": null,
   "id": "a8cb62b8",
   "metadata": {},
   "outputs": [],
   "source": []
  }
 ],
 "metadata": {
  "kernelspec": {
   "display_name": ".venv",
   "language": "python",
   "name": "python3"
  },
  "language_info": {
   "codemirror_mode": {
    "name": "ipython",
    "version": 3
   },
   "file_extension": ".py",
   "mimetype": "text/x-python",
   "name": "python",
   "nbconvert_exporter": "python",
   "pygments_lexer": "ipython3",
   "version": "3.12.3"
  }
 },
 "nbformat": 4,
 "nbformat_minor": 5
}
